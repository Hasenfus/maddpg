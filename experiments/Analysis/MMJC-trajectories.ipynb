{
 "cells": [
  {
   "cell_type": "code",
   "execution_count": null,
   "id": "initial_id",
   "metadata": {
    "collapsed": true
   },
   "outputs": [],
   "source": [
    "from utils import get_rewards_for_last_n_runs, average_and_confidence, plot_with_confidence_interval, plot_multiple_with_confidence_intervals, get_trajectories, plot_trajectories"
   ]
  },
  {
   "cell_type": "markdown",
   "source": [
    "# Ant 2x4"
   ],
   "metadata": {
    "collapsed": false
   },
   "id": "13c717518dc36291"
  },
  {
   "cell_type": "code",
   "execution_count": null,
   "outputs": [],
   "source": [
    "base_path = '/Users/Hunter/Development/Academic/UML/RL/Hasenfus-RL/Multi-Agent/maddpg/experiments/learning_curves/Ant.2x4.0.001.350.0.99'\n",
    "base_path_mal = '/Users/Hunter/Development/Academic/UML/RL/Hasenfus-RL/Multi-Agent/maddpg/experiments/learning_curves/Ant.2x4.0.001.350.0.99/malfunction'\n",
    "T1 = get_trajectories(base_path)\n",
    "T2 = get_trajectories(base_path_mal)"
   ],
   "metadata": {
    "collapsed": false
   },
   "id": "257e98665cd42423"
  },
  {
   "cell_type": "code",
   "execution_count": null,
   "outputs": [],
   "source": [
    "plot_trajectories(T1, title='Ant2x4', save=True)"
   ],
   "metadata": {
    "collapsed": false
   },
   "id": "e57711605b8b9ed2"
  },
  {
   "cell_type": "code",
   "execution_count": null,
   "outputs": [],
   "source": [
    "plot_trajectories(T2, title='Ant.2x4.malfunction', save=True)"
   ],
   "metadata": {
    "collapsed": false
   },
   "id": "b4be6376224985af"
  },
  {
   "cell_type": "markdown",
   "source": [
    "# Ant 4x2"
   ],
   "metadata": {
    "collapsed": false
   },
   "id": "4322e4ffddad4075"
  },
  {
   "cell_type": "code",
   "execution_count": null,
   "outputs": [],
   "source": [
    "base_path = '/Users/Hunter/Development/Academic/UML/RL/Hasenfus-RL/Multi-Agent/maddpg/experiments/learning_curves/Ant.4x2.0.001.350.0.99'\n",
    "base_path_mal = '/Users/Hunter/Development/Academic/UML/RL/Hasenfus-RL/Multi-Agent/maddpg/experiments/learning_curves/Ant.4x2.0.001.350.0.99/malfunction'\n",
    "T1 = get_trajectories(base_path)\n",
    "T2 = get_trajectories(base_path_mal)"
   ],
   "metadata": {
    "collapsed": false
   },
   "id": "c04152a3a1e2e25f"
  },
  {
   "cell_type": "code",
   "execution_count": null,
   "outputs": [],
   "source": [
    "plot_trajectories(T1, title='Ant.4x2', save=True)"
   ],
   "metadata": {
    "collapsed": false
   },
   "id": "24d5f673c9bf4ea2"
  },
  {
   "cell_type": "code",
   "execution_count": null,
   "outputs": [],
   "source": [
    "plot_trajectories(T2, title='Ant.4x2.malfunction', save=True)"
   ],
   "metadata": {
    "collapsed": false
   },
   "id": "b4ce7ee2c2be9790"
  },
  {
   "cell_type": "code",
   "execution_count": null,
   "outputs": [],
   "source": [],
   "metadata": {
    "collapsed": false
   },
   "id": "fbc901851f945d59"
  },
  {
   "cell_type": "markdown",
   "source": [
    "# Cheetah"
   ],
   "metadata": {
    "collapsed": false
   },
   "id": "31e88bedcfe6a3af"
  },
  {
   "cell_type": "code",
   "execution_count": null,
   "outputs": [],
   "source": [
    "base_path = '/Users/Hunter/Development/Academic/UML/RL/Hasenfus-RL/Multi-Agent/maddpg/experiments/learning_curves/Ant.4x2.0.001.350.0.99'\n",
    "base_path_mal = '/Users/Hunter/Development/Academic/UML/RL/Hasenfus-RL/Multi-Agent/maddpg/experiments/learning_curves/Ant.4x2.0.001.350.0.99/malfunction'\n",
    "T1 = get_trajectories(base_path)\n",
    "T2 = get_trajectories(base_path_mal)"
   ],
   "metadata": {
    "collapsed": false
   },
   "id": "72be14e1c2c2ac6d"
  },
  {
   "cell_type": "code",
   "execution_count": null,
   "outputs": [],
   "source": [
    "plot_trajectories(T1, title='Ant.4x2', save=True)"
   ],
   "metadata": {
    "collapsed": false
   },
   "id": "34562845bfa39516"
  },
  {
   "cell_type": "code",
   "execution_count": null,
   "outputs": [],
   "source": [
    "plot_trajectories(T2, title='Ant.4x2.malfunction', save=True)"
   ],
   "metadata": {
    "collapsed": false
   },
   "id": "60918707e1f6dd7d"
  }
 ],
 "metadata": {
  "kernelspec": {
   "display_name": "Python 3",
   "language": "python",
   "name": "python3"
  },
  "language_info": {
   "codemirror_mode": {
    "name": "ipython",
    "version": 2
   },
   "file_extension": ".py",
   "mimetype": "text/x-python",
   "name": "python",
   "nbconvert_exporter": "python",
   "pygments_lexer": "ipython2",
   "version": "2.7.6"
  }
 },
 "nbformat": 4,
 "nbformat_minor": 5
}
