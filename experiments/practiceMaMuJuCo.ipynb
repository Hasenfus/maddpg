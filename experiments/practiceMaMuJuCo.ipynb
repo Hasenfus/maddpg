{
 "cells": [
  {
   "cell_type": "code",
   "execution_count": 41,
   "id": "initial_id",
   "metadata": {
    "collapsed": true,
    "ExecuteTime": {
     "end_time": "2023-12-29T20:49:11.042719Z",
     "start_time": "2023-12-29T20:49:11.035607Z"
    }
   },
   "outputs": [],
   "source": [
    "# from gymnasium_robotics.mamujoco_v0 import get_parts_and_edges\n",
    "import gymnasium_robotics\n",
    "import numpy as np \n",
    "import time"
   ]
  },
  {
   "cell_type": "code",
   "execution_count": 42,
   "outputs": [],
   "source": [
    "unpartioned_nodes, edges, global_nodes = gymnasium_robotics.mamujoco_v0.get_parts_and_edges('Ant-v4', None)"
   ],
   "metadata": {
    "collapsed": false,
    "ExecuteTime": {
     "end_time": "2023-12-29T20:49:12.703646Z",
     "start_time": "2023-12-29T20:49:12.698543Z"
    }
   },
   "id": "975a7ce0136d9f95"
  },
  {
   "cell_type": "code",
   "execution_count": 43,
   "outputs": [],
   "source": [
    "partioned_nodes = [(unpartioned_nodes[0][0],), (unpartioned_nodes[0][1],), (unpartioned_nodes[0][2],), (unpartioned_nodes[0][3],), (unpartioned_nodes[0][4],), (unpartioned_nodes[0][5],), (unpartioned_nodes[0][6],), (unpartioned_nodes[0][7],)]"
   ],
   "metadata": {
    "collapsed": false,
    "ExecuteTime": {
     "end_time": "2023-12-29T20:49:13.214726Z",
     "start_time": "2023-12-29T20:49:13.209571Z"
    }
   },
   "id": "ab6afb4f174d5f5a"
  },
  {
   "cell_type": "code",
   "execution_count": 44,
   "outputs": [],
   "source": [
    "my_agent_factorization = {\"partition\": partioned_nodes, \"edges\": edges, \"globals\": global_nodes}\n",
    "env = gymnasium_robotics.mamujoco_v0.env(scenario='Ant', agent_conf ='8x1', agent_factorization=my_agent_factorization)"
   ],
   "metadata": {
    "collapsed": false,
    "ExecuteTime": {
     "end_time": "2023-12-29T20:49:13.593825Z",
     "start_time": "2023-12-29T20:49:13.568366Z"
    }
   },
   "id": "156a332f70396473"
  },
  {
   "cell_type": "code",
   "execution_count": 37,
   "outputs": [],
   "source": [
    "env.reset()"
   ],
   "metadata": {
    "collapsed": false,
    "ExecuteTime": {
     "end_time": "2023-12-28T18:11:47.133836Z",
     "start_time": "2023-12-28T18:11:47.130883Z"
    }
   },
   "id": "6448f0989fa52cbc"
  },
  {
   "cell_type": "code",
   "execution_count": 38,
   "outputs": [],
   "source": [
    "env.step([0,0,0,0,0,0,0,0])"
   ],
   "metadata": {
    "collapsed": false,
    "ExecuteTime": {
     "end_time": "2023-12-28T18:11:47.616682Z",
     "start_time": "2023-12-28T18:11:47.613080Z"
    }
   },
   "id": "50bf02182fec9192"
  },
  {
   "cell_type": "code",
   "execution_count": 40,
   "outputs": [
    {
     "ename": "ModuleNotFoundError",
     "evalue": "No module named 'torch'",
     "output_type": "error",
     "traceback": [
      "\u001B[0;31m---------------------------------------------------------------------------\u001B[0m",
      "\u001B[0;31mModuleNotFoundError\u001B[0m                       Traceback (most recent call last)",
      "\u001B[0;32m/var/folders/l2/bsmxrkc10x736tqpcsz1q6mw0000gp/T/ipykernel_18193/1252883021.py\u001B[0m in \u001B[0;36m<module>\u001B[0;34m\u001B[0m\n\u001B[0;32m----> 1\u001B[0;31m \u001B[0;32mimport\u001B[0m \u001B[0mtorch\u001B[0m\u001B[0;34m\u001B[0m\u001B[0;34m\u001B[0m\u001B[0m\n\u001B[0m\u001B[1;32m      2\u001B[0m \u001B[0;34m\u001B[0m\u001B[0m\n\u001B[1;32m      3\u001B[0m \u001B[0;34m\u001B[0m\u001B[0m\n\u001B[1;32m      4\u001B[0m \u001B[0meval_env\u001B[0m \u001B[0;34m=\u001B[0m \u001B[0mgymnasium_robotics\u001B[0m\u001B[0;34m.\u001B[0m\u001B[0mmamujoco_v0\u001B[0m\u001B[0;34m.\u001B[0m\u001B[0menv\u001B[0m\u001B[0;34m(\u001B[0m\u001B[0mscenario\u001B[0m\u001B[0;34m=\u001B[0m\u001B[0;34m'Ant'\u001B[0m\u001B[0;34m,\u001B[0m \u001B[0magent_conf\u001B[0m \u001B[0;34m=\u001B[0m\u001B[0;34m'8x1'\u001B[0m\u001B[0;34m,\u001B[0m \u001B[0magent_factorization\u001B[0m\u001B[0;34m=\u001B[0m\u001B[0mmy_agent_factorization\u001B[0m\u001B[0;34m)\u001B[0m\u001B[0;34m\u001B[0m\u001B[0;34m\u001B[0m\u001B[0m\n\u001B[1;32m      5\u001B[0m \u001B[0meval_episodes\u001B[0m \u001B[0;34m=\u001B[0m \u001B[0;36m10\u001B[0m\u001B[0;34m\u001B[0m\u001B[0;34m\u001B[0m\u001B[0m\n",
      "\u001B[0;31mModuleNotFoundError\u001B[0m: No module named 'torch'"
     ]
    }
   ],
   "source": [
    "import torch\n",
    "\n",
    "\n",
    "eval_env = gymnasium_robotics.mamujoco_v0.env(scenario='Ant', agent_conf ='8x1', agent_factorization=my_agent_factorization)\n",
    "eval_episodes = 10\n",
    "total_return = 0\n",
    "for i in range(eval_episodes):\n",
    "    cur_state_dict = eval_env.reset()[0]\n",
    "    terminated, truncated = 0, 0\n",
    "    while not (terminated or truncated):\n",
    "        cur_state = [torch.tensor(local_state, dtype=torch.float32, device=TORCH_DEVICE) for local_state in cur_state_dict.values()]\n",
    "        actions = model.query_actor(cur_state, add_noise=False)\n",
    "        actions_dict_numpy = {eval_env.possible_agents[agent_id]: actions[agent_id].tolist() for agent_id in range(len(eval_env.possible_agents))}\n",
    "        cur_state_dict, reward_dict, is_terminal_dict, is_truncated_dict, info_dict = eval_env.step(actions_dict_numpy)\n",
    "        total_return += reward_dict['agent_0']\n",
    "        terminated = is_terminal_dict['agent_0']\n",
    "        truncated = is_truncated_dict['agent_0']\n"
   ],
   "metadata": {
    "collapsed": false,
    "ExecuteTime": {
     "end_time": "2023-12-29T14:32:54.557941Z",
     "start_time": "2023-12-29T14:32:54.513150Z"
    }
   },
   "id": "8adc38e28ae8189b"
  },
  {
   "cell_type": "code",
   "execution_count": null,
   "outputs": [],
   "source": [],
   "metadata": {
    "collapsed": false
   },
   "id": "8db472f43fc02be7"
  }
 ],
 "metadata": {
  "kernelspec": {
   "display_name": "Python 3",
   "language": "python",
   "name": "python3"
  },
  "language_info": {
   "codemirror_mode": {
    "name": "ipython",
    "version": 2
   },
   "file_extension": ".py",
   "mimetype": "text/x-python",
   "name": "python",
   "nbconvert_exporter": "python",
   "pygments_lexer": "ipython2",
   "version": "2.7.6"
  }
 },
 "nbformat": 4,
 "nbformat_minor": 5
}
